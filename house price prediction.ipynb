{
 "cells": [
  {
   "cell_type": "code",
   "execution_count": 1,
   "id": "a437d298",
   "metadata": {},
   "outputs": [],
   "source": [
    "import pandas as pd\n",
    "from sklearn.model_selection import train_test_split\n",
    "from sklearn.linear_model import LinearRegression\n",
    "from sklearn.metrics import mean_squared_error"
   ]
  },
  {
   "cell_type": "markdown",
   "id": "45e72cb4",
   "metadata": {},
   "source": [
    "First, we import the data"
   ]
  },
  {
   "cell_type": "code",
   "execution_count": 2,
   "id": "70276431",
   "metadata": {},
   "outputs": [],
   "source": [
    "# Load the dataset\n",
    "data = pd.read_csv(r'C:\\Users\\paul zhan\\Desktop\\house_price\\Housing.csv')"
   ]
  },
  {
   "cell_type": "markdown",
   "id": "9eef4d83",
   "metadata": {},
   "source": [
    "Let's display the data."
   ]
  },
  {
   "cell_type": "code",
   "execution_count": 3,
   "id": "8d3df87d",
   "metadata": {},
   "outputs": [
    {
     "name": "stdout",
     "output_type": "stream",
     "text": [
      "        price  area  bedrooms  bathrooms  stories mainroad guestroom basement  \\\n",
      "0    13300000  7420         4          2        3      yes        no       no   \n",
      "1    12250000  8960         4          4        4      yes        no       no   \n",
      "2    12250000  9960         3          2        2      yes        no      yes   \n",
      "3    12215000  7500         4          2        2      yes        no      yes   \n",
      "4    11410000  7420         4          1        2      yes       yes      yes   \n",
      "..        ...   ...       ...        ...      ...      ...       ...      ...   \n",
      "540   1820000  3000         2          1        1      yes        no      yes   \n",
      "541   1767150  2400         3          1        1       no        no       no   \n",
      "542   1750000  3620         2          1        1      yes        no       no   \n",
      "543   1750000  2910         3          1        1       no        no       no   \n",
      "544   1750000  3850         3          1        2      yes        no       no   \n",
      "\n",
      "    hotwaterheating airconditioning  parking prefarea furnishingstatus  \n",
      "0                no             yes        2      yes        furnished  \n",
      "1                no             yes        3       no        furnished  \n",
      "2                no              no        2      yes   semi-furnished  \n",
      "3                no             yes        3      yes        furnished  \n",
      "4                no             yes        2       no        furnished  \n",
      "..              ...             ...      ...      ...              ...  \n",
      "540              no              no        2       no      unfurnished  \n",
      "541              no              no        0       no   semi-furnished  \n",
      "542              no              no        0       no      unfurnished  \n",
      "543              no              no        0       no        furnished  \n",
      "544              no              no        0       no      unfurnished  \n",
      "\n",
      "[545 rows x 13 columns]\n"
     ]
    }
   ],
   "source": [
    "print(data)"
   ]
  },
  {
   "cell_type": "markdown",
   "id": "8954a81c",
   "metadata": {},
   "source": [
    "Now, we will process the data and see if there are missing value."
   ]
  },
  {
   "cell_type": "code",
   "execution_count": 4,
   "id": "81e9b549",
   "metadata": {},
   "outputs": [
    {
     "name": "stdout",
     "output_type": "stream",
     "text": [
      "price               0\n",
      "area                0\n",
      "bedrooms            0\n",
      "bathrooms           0\n",
      "stories             0\n",
      "mainroad            0\n",
      "guestroom           0\n",
      "basement            0\n",
      "hotwaterheating     0\n",
      "airconditioning     0\n",
      "parking             0\n",
      "prefarea            0\n",
      "furnishingstatus    0\n",
      "dtype: int64\n"
     ]
    }
   ],
   "source": [
    "# Check for missing values\n",
    "missing_values = data.isnull()  # or data.isna()\n",
    "\n",
    "# Count the missing values in each column\n",
    "missing_count = missing_values.sum()\n",
    "\n",
    "# Display the count of missing values for each column\n",
    "print(missing_count)"
   ]
  },
  {
   "cell_type": "markdown",
   "id": "3f391a32",
   "metadata": {},
   "source": [
    "I found out that the linear regression dont take none numerical value so we are going to cconvert yes and no into binary."
   ]
  },
  {
   "cell_type": "code",
   "execution_count": 5,
   "id": "0e2f82ba",
   "metadata": {},
   "outputs": [],
   "source": [
    "# Define a mapping for 'yes' and 'no' to 1 and 0\n",
    "mapping = {'yes': 1, 'no': 0}\n",
    "\n",
    "# Apply the mapping to specific columns\n",
    "columns_to_convert = ['mainroad', 'guestroom', 'basement','hotwaterheating','airconditioning', 'prefarea']  # List the columns you want to convert\n",
    "\n",
    "data[columns_to_convert] = data[columns_to_convert].applymap(mapping.get)"
   ]
  },
  {
   "cell_type": "code",
   "execution_count": 6,
   "id": "64a3ce38",
   "metadata": {},
   "outputs": [
    {
     "name": "stdout",
     "output_type": "stream",
     "text": [
      "        price  area  bedrooms  bathrooms  stories  mainroad  guestroom  \\\n",
      "0    13300000  7420         4          2        3         1          0   \n",
      "1    12250000  8960         4          4        4         1          0   \n",
      "2    12250000  9960         3          2        2         1          0   \n",
      "3    12215000  7500         4          2        2         1          0   \n",
      "4    11410000  7420         4          1        2         1          1   \n",
      "..        ...   ...       ...        ...      ...       ...        ...   \n",
      "540   1820000  3000         2          1        1         1          0   \n",
      "541   1767150  2400         3          1        1         0          0   \n",
      "542   1750000  3620         2          1        1         1          0   \n",
      "543   1750000  2910         3          1        1         0          0   \n",
      "544   1750000  3850         3          1        2         1          0   \n",
      "\n",
      "     basement  hotwaterheating  airconditioning  parking  prefarea  \\\n",
      "0           0                0                1        2         1   \n",
      "1           0                0                1        3         0   \n",
      "2           1                0                0        2         1   \n",
      "3           1                0                1        3         1   \n",
      "4           1                0                1        2         0   \n",
      "..        ...              ...              ...      ...       ...   \n",
      "540         1                0                0        2         0   \n",
      "541         0                0                0        0         0   \n",
      "542         0                0                0        0         0   \n",
      "543         0                0                0        0         0   \n",
      "544         0                0                0        0         0   \n",
      "\n",
      "    furnishingstatus  \n",
      "0          furnished  \n",
      "1          furnished  \n",
      "2     semi-furnished  \n",
      "3          furnished  \n",
      "4          furnished  \n",
      "..               ...  \n",
      "540      unfurnished  \n",
      "541   semi-furnished  \n",
      "542      unfurnished  \n",
      "543        furnished  \n",
      "544      unfurnished  \n",
      "\n",
      "[545 rows x 13 columns]\n"
     ]
    }
   ],
   "source": [
    "print(data)"
   ]
  },
  {
   "cell_type": "markdown",
   "id": "292b93c5",
   "metadata": {},
   "source": [
    "we can see that the data contains no missing value."
   ]
  },
  {
   "cell_type": "markdown",
   "id": "7e1d7075",
   "metadata": {},
   "source": [
    "let's split the training set and the testing set.  what we want is house price therefore the target Y will be price the rest will be in X since it might be useful information for the training"
   ]
  },
  {
   "cell_type": "code",
   "execution_count": 25,
   "id": "1204c3ac",
   "metadata": {},
   "outputs": [],
   "source": [
    "# Separate features (X) and target (y)\n",
    "X = data[[\"area\", \"bedrooms\", \"bathrooms\", \"stories\", \"mainroad\", \"guestroom\", \"basement\", \"hotwaterheating\", \"airconditioning\", \"parking\", \"prefarea\"]]\n",
    "y = data['price']"
   ]
  },
  {
   "cell_type": "code",
   "execution_count": 38,
   "id": "a5f34415",
   "metadata": {},
   "outputs": [
    {
     "name": "stdout",
     "output_type": "stream",
     "text": [
      "     area  bedrooms  bathrooms  stories  mainroad  guestroom  basement  \\\n",
      "316  5900         4          2        2         0          0         1   \n",
      "77   6500         3          2        3         1          0         0   \n",
      "360  4040         2          1        1         1          0         0   \n",
      "90   5000         3          1        2         1          0         0   \n",
      "493  3960         3          1        1         1          0         0   \n",
      "..    ...       ...        ...      ...       ...        ...       ...   \n",
      "15   6000         4          1        2         1          0         1   \n",
      "357  6930         4          1        2         0          0         0   \n",
      "39   6000         4          2        4         1          0         0   \n",
      "54   6000         3          2        2         1          1         0   \n",
      "155  6100         3          2        1         1          0         1   \n",
      "\n",
      "     hotwaterheating  airconditioning  parking  prefarea  \n",
      "316                0                0        1         0  \n",
      "77                 0                1        0         1  \n",
      "360                0                0        0         0  \n",
      "90                 0                1        0         0  \n",
      "493                0                0        0         0  \n",
      "..               ...              ...      ...       ...  \n",
      "15                 0                0        2         0  \n",
      "357                0                0        1         0  \n",
      "39                 0                1        1         0  \n",
      "54                 0                1        1         0  \n",
      "155                0                0        2         1  \n",
      "\n",
      "[109 rows x 11 columns]\n",
      "Mean Squared Error: 1800793719718.9675\n"
     ]
    }
   ],
   "source": [
    "# Split the data into training and testing sets\n",
    "X_train, X_test, y_train, y_test = train_test_split(X, y, test_size=0.2, random_state=42)\n",
    "# Create a linear regression model\n",
    "model = LinearRegression()\n",
    "\n",
    "# Train the model on the training data\n",
    "model.fit(X_train, y_train)\n",
    "print(X_test)\n",
    "\n",
    "# Make predictions on the test data\n",
    "y_pred = model.predict(X_test)\n",
    "\n",
    "\n",
    "# Evaluate the model\n",
    "mse = mean_squared_error(y_test, y_pred)\n",
    "print(f\"Mean Squared Error: {mse}\")\n"
   ]
  },
  {
   "cell_type": "markdown",
   "id": "838cd4fc",
   "metadata": {},
   "source": [
    "Now, lets make a prediction for house price. "
   ]
  },
  {
   "cell_type": "code",
   "execution_count": 9,
   "id": "8f3a12ea",
   "metadata": {},
   "outputs": [],
   "source": [
    "data_for_pred = pd.read_csv(r\"C:\\Users\\paul zhan\\Desktop\\house_dataset_pred.csv\")"
   ]
  },
  {
   "cell_type": "code",
   "execution_count": 10,
   "id": "1bd2e0fc",
   "metadata": {},
   "outputs": [
    {
     "name": "stdout",
     "output_type": "stream",
     "text": [
      "    area  bedrooms  bathrooms  stories mainroad guestroom basement  \\\n",
      "0   1140         4          2        3      yes       yes       no   \n",
      "1   3000         4          4        4      yes        no       no   \n",
      "2   9960         3          2        2      yes        no      yes   \n",
      "3   4000         4          2        2       no        no      yes   \n",
      "4  16000         4          1        2      yes       yes      yes   \n",
      "5  23000         3          3        1      yes        no      yes   \n",
      "\n",
      "  hotwaterheating airconditioning  parking prefarea furnishingstatus  \n",
      "0              no             yes        0      yes        furnished  \n",
      "1              no             yes        3       no        furnished  \n",
      "2             yes              no        1      yes   semi-furnished  \n",
      "3              no             yes        3      yes        furnished  \n",
      "4              no             yes        2       no        furnished  \n",
      "5              no             yes        2      yes   semi-furnished  \n"
     ]
    }
   ],
   "source": [
    "print(data_for_pred)"
   ]
  },
  {
   "cell_type": "code",
   "execution_count": 11,
   "id": "f0e6a4bc",
   "metadata": {},
   "outputs": [],
   "source": [
    "# Define a mapping for 'yes' and 'no' to 1 and 0\n",
    "mapping = {'yes': 1, 'no': 0}\n",
    "\n",
    "# Apply the mapping to specific columns\n",
    "columns_to_convert = ['mainroad', 'guestroom', 'basement','hotwaterheating','airconditioning', 'prefarea']  # List the columns you want to convert\n",
    "\n",
    "data_for_pred[columns_to_convert] = data_for_pred[columns_to_convert].applymap(mapping.get)"
   ]
  },
  {
   "cell_type": "code",
   "execution_count": 12,
   "id": "61f4251e",
   "metadata": {},
   "outputs": [
    {
     "name": "stdout",
     "output_type": "stream",
     "text": [
      "    area  bedrooms  bathrooms  stories  mainroad  guestroom  basement  \\\n",
      "0   1140         4          2        3         1          1         0   \n",
      "1   3000         4          4        4         1          0         0   \n",
      "2   9960         3          2        2         1          0         1   \n",
      "3   4000         4          2        2         0          0         1   \n",
      "4  16000         4          1        2         1          1         1   \n",
      "5  23000         3          3        1         1          0         1   \n",
      "\n",
      "   hotwaterheating  airconditioning  parking  prefarea furnishingstatus  \n",
      "0                0                1        0         1        furnished  \n",
      "1                0                1        3         0        furnished  \n",
      "2                1                0        1         1   semi-furnished  \n",
      "3                0                1        3         1        furnished  \n",
      "4                0                1        2         0        furnished  \n",
      "5                0                1        2         1   semi-furnished  \n"
     ]
    }
   ],
   "source": [
    "print(data_for_pred)"
   ]
  },
  {
   "cell_type": "code",
   "execution_count": 41,
   "id": "f407798b",
   "metadata": {},
   "outputs": [
    {
     "name": "stdout",
     "output_type": "stream",
     "text": [
      "    area  bedrooms  bathrooms  stories  mainroad  guestroom  basement  \\\n",
      "0   1140         4          2        3         1          1         0   \n",
      "1   3000         4          4        4         1          0         0   \n",
      "2   9960         3          2        2         1          0         1   \n",
      "3   4000         4          2        2         0          0         1   \n",
      "4  16000         4          1        2         1          1         1   \n",
      "5  23000         3          3        1         1          0         1   \n",
      "\n",
      "   hotwaterheating  airconditioning  parking  prefarea  \n",
      "0                0                1        0         1  \n",
      "1                0                1        3         0  \n",
      "2                1                0        1         1  \n",
      "3                0                1        3         1  \n",
      "4                0                1        2         0  \n",
      "5                0                1        2         1  \n"
     ]
    }
   ],
   "source": [
    "X_pred = data_for_pred[[\"area\", \"bedrooms\", \"bathrooms\", \"stories\", \"mainroad\", \"guestroom\", \"basement\", \"hotwaterheating\", \"airconditioning\", \"parking\", \"prefarea\"]]\n",
    "print(X_pred)"
   ]
  },
  {
   "cell_type": "code",
   "execution_count": 43,
   "id": "bddd3c38",
   "metadata": {
    "scrolled": true
   },
   "outputs": [
    {
     "name": "stdout",
     "output_type": "stream",
     "text": [
      "[ 6113365.28326472  9063003.93293962  8047270.19177733  6887358.49033546\n",
      "  8402611.83930149 12173025.74073119]\n"
     ]
    }
   ],
   "source": [
    "prediction = model.predict(X_pred)\n",
    "print(prediction)"
   ]
  },
  {
   "cell_type": "code",
   "execution_count": null,
   "id": "6deec15c",
   "metadata": {},
   "outputs": [],
   "source": []
  },
  {
   "cell_type": "code",
   "execution_count": null,
   "id": "6ef9b119",
   "metadata": {},
   "outputs": [],
   "source": []
  },
  {
   "cell_type": "code",
   "execution_count": null,
   "id": "22539182",
   "metadata": {},
   "outputs": [],
   "source": []
  }
 ],
 "metadata": {
  "kernelspec": {
   "display_name": "ml_work",
   "language": "python",
   "name": "ml_work"
  },
  "language_info": {
   "codemirror_mode": {
    "name": "ipython",
    "version": 3
   },
   "file_extension": ".py",
   "mimetype": "text/x-python",
   "name": "python",
   "nbconvert_exporter": "python",
   "pygments_lexer": "ipython3",
   "version": "3.10.4"
  }
 },
 "nbformat": 4,
 "nbformat_minor": 5
}
